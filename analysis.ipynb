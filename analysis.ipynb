{
 "cells": [
  {
   "cell_type": "code",
   "execution_count": 3,
   "id": "6460be31",
   "metadata": {},
   "outputs": [
    {
     "name": "stdout",
     "output_type": "stream",
     "text": [
      "Populating the interactive namespace from numpy and matplotlib\n"
     ]
    }
   ],
   "source": [
    "import json\n",
    "from os import listdir\n",
    "from os.path import join\n",
    "import pandas as pd\n",
    "import networkx as nx\n",
    "\n",
    "from typing import List\n",
    "\n",
    "%pylab inline"
   ]
  },
  {
   "cell_type": "code",
   "execution_count": 4,
   "id": "d7caf437",
   "metadata": {},
   "outputs": [],
   "source": [
    "def load_json_dir (directory: str) -> List[dict]: \n",
    "    '''\n",
    "    Load each file in a directory of JSON files\n",
    "    '''\n",
    "    filenames = listdir(directory)\n",
    "    def load_by_fn (fn: str) -> dict:\n",
    "        return json.load(open(join(directory, fn)))\n",
    "    return [load_by_fn(f) for f in filenames if f != 'search.json']"
   ]
  },
  {
   "cell_type": "markdown",
   "id": "713895d3",
   "metadata": {},
   "source": [
    "# By country"
   ]
  },
  {
   "cell_type": "code",
   "execution_count": 5,
   "id": "e5baa48c",
   "metadata": {},
   "outputs": [],
   "source": [
    "countries = load_json_dir('www.submarinecablemap.com/public/api/v2/country/')"
   ]
  },
  {
   "cell_type": "markdown",
   "id": "22d1842a",
   "metadata": {},
   "source": [
    "## Placename to cc"
   ]
  },
  {
   "cell_type": "code",
   "execution_count": 6,
   "id": "233b7880",
   "metadata": {},
   "outputs": [],
   "source": [
    "cc_codes = pd.read_csv('country_to_cc.csv')\n",
    "\n",
    "def country_to_cc2 (country_name: str) -> str:\n",
    "    try:\n",
    "        return cc_codes[cc_codes['Country']==country_name]['Alpha-2 code'].values[0].split('\"')[1]\n",
    "    except:\n",
    "        raise Exception(f'Cannot find {country_name}')"
   ]
  },
  {
   "cell_type": "code",
   "execution_count": 7,
   "id": "7fec75f2",
   "metadata": {},
   "outputs": [
    {
     "data": {
      "text/plain": [
       "'United States'"
      ]
     },
     "execution_count": 7,
     "metadata": {},
     "output_type": "execute_result"
    }
   ],
   "source": [
    "def cc_to_country (cc2: str) -> str:\n",
    "    return cc_codes[cc_codes['Alpha-2 code']==f' \"{cc2}\"']['Country'].values[0]\n",
    "\n",
    "cc_to_country('US')"
   ]
  },
  {
   "cell_type": "code",
   "execution_count": 8,
   "id": "7631ee97",
   "metadata": {},
   "outputs": [],
   "source": [
    "def place_name_to_cc2 (placename: str) -> str:\n",
    "    try:\n",
    "        count_name = placename.split(',')[-1].strip()\n",
    "        return country_to_cc2(count_name)\n",
    "    except:\n",
    "        # sometimes country names have a comma (e.g., 'Congo, Dem. Rep.')\n",
    "        count_name = placename.split(',')[-2].strip()\n",
    "        return country_to_cc2(count_name)\n",
    "# [place_name_to_cc2(n) for n in place_names]"
   ]
  },
  {
   "cell_type": "markdown",
   "id": "622a367f",
   "metadata": {},
   "source": [
    "## Parse RFS date"
   ]
  },
  {
   "cell_type": "code",
   "execution_count": 9,
   "id": "96530271",
   "metadata": {},
   "outputs": [],
   "source": [
    "cables = load_json_dir('www.submarinecablemap.com/public/api/v2/cable/')"
   ]
  },
  {
   "cell_type": "code",
   "execution_count": 10,
   "id": "8ebe1ff4",
   "metadata": {},
   "outputs": [
    {
     "data": {
      "text/plain": [
       "{'id': 'labuan-brunei-submarine-cable',\n",
       " 'name': 'Labuan-Brunei Submarine Cable',\n",
       " 'cable_id': 1891,\n",
       " 'landing_points': [{'landing_point_id': 16695,\n",
       "   'id': 'kiamsam-malaysia',\n",
       "   'name': 'Kiamsam, Malaysia',\n",
       "   'latlon': '5.255329,115.168938',\n",
       "   'url': '#/landing-point/kiamsam-malaysia',\n",
       "   'is_tbd': 'false'},\n",
       "  {'landing_point_id': 5970,\n",
       "   'id': 'tungku-brunei',\n",
       "   'name': 'Tungku, Brunei',\n",
       "   'latlon': '4.926371,114.885833',\n",
       "   'url': '#/landing-point/tungku-brunei',\n",
       "   'is_tbd': 'false'}],\n",
       " 'length': '52 km',\n",
       " 'rfs': '2017 April',\n",
       " 'owners': 'Common Tower Technologies Sdn Bhd',\n",
       " 'url': 'http://www.cttsb.com.my',\n",
       " 'notes': None}"
      ]
     },
     "execution_count": 10,
     "metadata": {},
     "output_type": "execute_result"
    }
   ],
   "source": [
    "def get_cable (cable_id):\n",
    "    for cable in cables:\n",
    "        try:\n",
    "            if cable['cable_id'] == cable_id:\n",
    "                return cable\n",
    "        except:\n",
    "            pass\n",
    "    raise Exception(f'Cannot find cable with id {cable_id}')\n",
    "    \n",
    "c = get_cable(1891)\n",
    "c"
   ]
  },
  {
   "cell_type": "code",
   "execution_count": 11,
   "id": "c9055662",
   "metadata": {},
   "outputs": [],
   "source": [
    "from datetime import datetime\n",
    "\n",
    "def parse_rfs_date (cable: dict) -> datetime:\n",
    "    try:\n",
    "        rfs = cable['rfs']\n",
    "    except:\n",
    "        raise Exception('No RFS date found for cable.')\n",
    "    try:\n",
    "        parsed = datetime.strptime(rfs, '%Y')\n",
    "        return parsed\n",
    "    except:\n",
    "        try:\n",
    "            parsed = datetime.strptime(rfs, '%Y %B')\n",
    "            return parsed\n",
    "        except:\n",
    "            try:\n",
    "                y, q = rfs.split(' ')\n",
    "                y = int(y)\n",
    "                if q == 'Q1':\n",
    "                    parsed = datetime(y, 1, 1)\n",
    "                elif q == 'Q2':\n",
    "                    parsed = datetime(y, 4, 1)\n",
    "                elif q == 'Q3':\n",
    "                    parsed = datetime(y, 7, 1)\n",
    "                elif q == 'Q4':\n",
    "                    parsed = datetime(y, 10, 1)\n",
    "                return parsed\n",
    "            except:\n",
    "                raise Exception('Cannot parse RFS for cable.')"
   ]
  },
  {
   "cell_type": "code",
   "execution_count": 12,
   "id": "52964694",
   "metadata": {},
   "outputs": [
    {
     "data": {
      "text/plain": [
       "True"
      ]
     },
     "execution_count": 12,
     "metadata": {},
     "output_type": "execute_result"
    }
   ],
   "source": [
    "def is_ready_for_service (cable):\n",
    "    '''\n",
    "    See if a cable is ready for service. If we can't parse the date, assume it isn't.\n",
    "    '''\n",
    "    try:\n",
    "        return parse_rfs_date(cable) < datetime.now()\n",
    "    except:\n",
    "        return False\n",
    "\n",
    "is_ready_for_service(get_cable(2144))"
   ]
  },
  {
   "cell_type": "markdown",
   "id": "052ae5b3",
   "metadata": {},
   "source": [
    "# Make a graph for the whole world"
   ]
  },
  {
   "cell_type": "code",
   "execution_count": 15,
   "id": "91103a0e",
   "metadata": {},
   "outputs": [],
   "source": [
    "def get_connections (country_or_cable):\n",
    "    landings = country_or_cable['landing_points']\n",
    "    names = [l['name'] for l in landings]\n",
    "    return names\n",
    "\n",
    "place_names = get_connections(countries[5])\n",
    "# place_names"
   ]
  },
  {
   "cell_type": "code",
   "execution_count": 20,
   "id": "753281ed",
   "metadata": {},
   "outputs": [],
   "source": [
    "edges = {}\n",
    "\n",
    "def construct_graph (include_future_cables=False):\n",
    "    G = nx.Graph()\n",
    "    for country in countries:\n",
    "        cc2 = country_to_cc2(country['name'])\n",
    "        # add nodes for each country\n",
    "        G.add_node(cc2)\n",
    "    for country in countries:\n",
    "        # add edges for each country\n",
    "        from_cc2 = country_to_cc2(country['name'])\n",
    "        cables = [get_cable(c['cable_id']) \n",
    "                  for c in country['cables']]\n",
    "        # if we are choosing to exclude future cables\n",
    "        if not include_future_cables:\n",
    "            # only include cables ready for service today\n",
    "            cables = [c for c in cables if is_ready_for_service(c)]\n",
    "        for cable in cables:\n",
    "            connection_names = get_connections(cable)\n",
    "            connection_cc2s = [place_name_to_cc2(n) for n in connection_names]\n",
    "            for to_cc2 in connection_cc2s:\n",
    "                # take international connections only\n",
    "                if from_cc2 != to_cc2:\n",
    "                    dict_key = (from_cc2, to_cc2)\n",
    "                    if dict_key in edges:\n",
    "                        edges[dict_key] = edges[dict_key]+1\n",
    "                    else:\n",
    "                        edges[dict_key] = 1\n",
    "    # construct the graph                  \n",
    "    for dkey, weight in edges.items():\n",
    "        from_cc, to_cc = dkey\n",
    "        # the weight of each edge <= the number of cables\n",
    "        G.add_edge(from_cc, to_cc, weight=weight)\n",
    "        \n",
    "    return G\n",
    "\n",
    "G = construct_graph()"
   ]
  },
  {
   "cell_type": "code",
   "execution_count": 21,
   "id": "0be135cb",
   "metadata": {},
   "outputs": [],
   "source": [
    "future_G = construct_graph(include_future_cables=True)"
   ]
  },
  {
   "cell_type": "code",
   "execution_count": 22,
   "id": "11d02e4d",
   "metadata": {},
   "outputs": [],
   "source": [
    "nx.write_gpickle(G, 'undersea_today.networkx')\n",
    "nx.write_gpickle(future_G, 'undersea_future.networkx')"
   ]
  },
  {
   "cell_type": "markdown",
   "id": "e3065a3e",
   "metadata": {},
   "source": [
    "# Analyze the graph of the world\n",
    "\n",
    "https://programminghistorian.org/en/lessons/exploring-and-analyzing-network-data-with-python#the-shape-of-the-network"
   ]
  },
  {
   "cell_type": "code",
   "execution_count": 23,
   "id": "5a09f2cc",
   "metadata": {},
   "outputs": [
    {
     "data": {
      "image/png": "[encoded data removed]",
      "text/plain": [
       "<Figure size 864x360 with 1 Axes>"
      ]
     },
     "metadata": {},
     "output_type": "display_data"
    }
   ],
   "source": [
    "def plot_net (graph):\n",
    "    color_map = []\n",
    "    for node in graph:\n",
    "        if node == 'US':\n",
    "            color_map.append('red')\n",
    "        else: \n",
    "            color_map.append('white')      \n",
    "            \n",
    "    fig, ax = plt.subplots(1, 1, figsize=(12, 5));\n",
    "    nx.draw(graph, node_color=color_map, with_labels=True)\n",
    "    plt.show()\n",
    "    \n",
    "plot_net(G) "
   ]
  },
  {
   "cell_type": "markdown",
   "id": "0255cf05",
   "metadata": {},
   "source": [
    "# Network density"
   ]
  },
  {
   "cell_type": "code",
   "execution_count": 16,
   "id": "f1d274df",
   "metadata": {},
   "outputs": [
    {
     "data": {
      "text/plain": [
       "0.08593046297964331"
      ]
     },
     "execution_count": 16,
     "metadata": {},
     "output_type": "execute_result"
    }
   ],
   "source": [
    "density = nx.density(G)\n",
    "density"
   ]
  },
  {
   "cell_type": "markdown",
   "id": "00902300",
   "metadata": {},
   "source": [
    "## Diameter (of largest subgraph)"
   ]
  },
  {
   "cell_type": "code",
   "execution_count": 24,
   "id": "98838ee3",
   "metadata": {},
   "outputs": [
    {
     "data": {
      "text/plain": [
       "6"
      ]
     },
     "execution_count": 24,
     "metadata": {},
     "output_type": "execute_result"
    }
   ],
   "source": [
    "# Next, use nx.connected_components to get the list of components,\n",
    "# then use the max() command to find the largest one:\n",
    "components = nx.connected_components(G)\n",
    "largest_component = max(components, key=len)\n",
    "\n",
    "# Create a \"subgraph\" of just the largest component\n",
    "# Then calculate the diameter of the subgraph, just like you did with density.\n",
    "#\n",
    "\n",
    "subgraph = G.subgraph(largest_component)\n",
    "diameter = nx.diameter(subgraph)\n",
    "diameter"
   ]
  },
  {
   "cell_type": "markdown",
   "id": "ea616776",
   "metadata": {},
   "source": [
    "# Plot of largest subgraph"
   ]
  },
  {
   "cell_type": "code",
   "execution_count": 25,
   "id": "5db6a872",
   "metadata": {},
   "outputs": [
    {
     "data": {
      "image/png": "[encoded data removed]",
      "text/plain": [
       "<Figure size 864x360 with 1 Axes>"
      ]
     },
     "metadata": {},
     "output_type": "display_data"
    }
   ],
   "source": [
    "plot_net(subgraph)"
   ]
  },
  {
   "cell_type": "markdown",
   "id": "b5368944",
   "metadata": {},
   "source": [
    "## Clustering coefficient\n",
    "Transitivity is the ratio of all triangles over all possible triangles. A possible triangle exists when one person (Fox) knows two people (Fell and Whitehead). So transitivity, like density, expresses how interconnected a graph is in terms of a ratio of actual over possible connections. "
   ]
  },
  {
   "cell_type": "code",
   "execution_count": 19,
   "id": "8f66aea0",
   "metadata": {},
   "outputs": [
    {
     "data": {
      "text/plain": [
       "0.6449569053970859"
      ]
     },
     "execution_count": 19,
     "metadata": {},
     "output_type": "execute_result"
    }
   ],
   "source": [
    "nx.transitivity(G)"
   ]
  },
  {
   "cell_type": "markdown",
   "id": "03552d37",
   "metadata": {},
   "source": [
    "## Degree centrality"
   ]
  },
  {
   "cell_type": "code",
   "execution_count": 28,
   "id": "c618f056",
   "metadata": {},
   "outputs": [],
   "source": [
    "from operator import itemgetter"
   ]
  },
  {
   "cell_type": "code",
   "execution_count": 29,
   "id": "494e04e0",
   "metadata": {},
   "outputs": [],
   "source": [
    "degree_dict = dict(G.degree(G.nodes()))\n",
    "nx.set_node_attributes(G, degree_dict, 'degree')"
   ]
  },
  {
   "cell_type": "code",
   "execution_count": 30,
   "id": "0a6a1479",
   "metadata": {},
   "outputs": [],
   "source": [
    "def top_n (my_dict, n, reverse=True):\n",
    "    sorted_dict = sorted(my_dict.items(), key=itemgetter(1), reverse=reverse)\n",
    "    return sorted_dict[:n]"
   ]
  },
  {
   "cell_type": "code",
   "execution_count": 31,
   "id": "5e239394",
   "metadata": {},
   "outputs": [],
   "source": [
    "top_degree = top_n(degree_dict, 20)"
   ]
  },
  {
   "cell_type": "code",
   "execution_count": 32,
   "id": "f929c90a",
   "metadata": {},
   "outputs": [
    {
     "data": {
      "text/plain": [
       "<matplotlib.axes._subplots.AxesSubplot at 0x7fc02efd7eb0>"
      ]
     },
     "execution_count": 32,
     "metadata": {},
     "output_type": "execute_result"
    },
    {
     "data": {
      "image/png": "[encoded data removed]",
      "text/plain": [
       "<Figure size 432x288 with 1 Axes>"
      ]
     },
     "metadata": {
      "needs_background": "light"
     },
     "output_type": "display_data"
    }
   ],
   "source": [
    "def plot_top (top_lst, title='Centrality', **kwargs):\n",
    "    degree = pd.DataFrame(top_lst, columns=['Country', title])\n",
    "    degree.index = degree['Country']\n",
    "    degree['Country'] = degree['Country'].apply(cc_to_country)\n",
    "    ax = degree.plot.bar(**kwargs)\n",
    "    ax.set_xlabel('')\n",
    "    return ax\n",
    "    \n",
    "plot_top(top_degree)"
   ]
  },
  {
   "cell_type": "markdown",
   "id": "3938bb67",
   "metadata": {},
   "source": [
    "## Betweeness centrality"
   ]
  },
  {
   "cell_type": "code",
   "execution_count": 26,
   "id": "30cf9e15",
   "metadata": {},
   "outputs": [
    {
     "ename": "ModuleNotFoundError",
     "evalue": "No module named 'jupyterthemes'",
     "output_type": "error",
     "traceback": [
      "\u001b[0;31m---------------------------------------------------------------------------\u001b[0m",
      "\u001b[0;31mModuleNotFoundError\u001b[0m                       Traceback (most recent call last)",
      "\u001b[0;32m/tmp/ipykernel_99041/3138624694.py\u001b[0m in \u001b[0;36m<module>\u001b[0;34m\u001b[0m\n\u001b[0;32m----> 1\u001b[0;31m \u001b[0;32mfrom\u001b[0m \u001b[0mjupyterthemes\u001b[0m \u001b[0;32mimport\u001b[0m \u001b[0mjtplot\u001b[0m\u001b[0;34m\u001b[0m\u001b[0;34m\u001b[0m\u001b[0m\n\u001b[0m\u001b[1;32m      2\u001b[0m \u001b[0;34m\u001b[0m\u001b[0m\n\u001b[1;32m      3\u001b[0m \u001b[0;31m# scale font-size of ticklabels, legend, etc.\u001b[0m\u001b[0;34m\u001b[0m\u001b[0;34m\u001b[0m\u001b[0;34m\u001b[0m\u001b[0m\n\u001b[1;32m      4\u001b[0m \u001b[0;31m# remove spines from x and y axes and make grid dashed\u001b[0m\u001b[0;34m\u001b[0m\u001b[0;34m\u001b[0m\u001b[0;34m\u001b[0m\u001b[0m\n\u001b[1;32m      5\u001b[0m \u001b[0mjtplot\u001b[0m\u001b[0;34m.\u001b[0m\u001b[0mstyle\u001b[0m\u001b[0;34m(\u001b[0m\u001b[0mcontext\u001b[0m\u001b[0;34m=\u001b[0m\u001b[0;34m'talk'\u001b[0m\u001b[0;34m,\u001b[0m \u001b[0mfscale\u001b[0m\u001b[0;34m=\u001b[0m\u001b[0;36m1\u001b[0m\u001b[0;34m,\u001b[0m \u001b[0mspines\u001b[0m\u001b[0;34m=\u001b[0m\u001b[0;32mFalse\u001b[0m\u001b[0;34m,\u001b[0m \u001b[0mgridlines\u001b[0m\u001b[0;34m=\u001b[0m\u001b[0;34m'--'\u001b[0m\u001b[0;34m)\u001b[0m\u001b[0;34m\u001b[0m\u001b[0;34m\u001b[0m\u001b[0m\n",
      "\u001b[0;31mModuleNotFoundError\u001b[0m: No module named 'jupyterthemes'"
     ]
    }
   ],
   "source": [
    "from jupyterthemes import jtplot\n",
    "\n",
    "# scale font-size of ticklabels, legend, etc.\n",
    "# remove spines from x and y axes and make grid dashed\n",
    "jtplot.style(context='talk', fscale=1, spines=False, gridlines='--')"
   ]
  },
  {
   "cell_type": "code",
   "execution_count": 27,
   "id": "ae8ba5fe",
   "metadata": {},
   "outputs": [
    {
     "ename": "NameError",
     "evalue": "name 'plot_top' is not defined",
     "output_type": "error",
     "traceback": [
      "\u001b[0;31m---------------------------------------------------------------------------\u001b[0m",
      "\u001b[0;31mNameError\u001b[0m                                 Traceback (most recent call last)",
      "\u001b[0;32m/tmp/ipykernel_99041/417518512.py\u001b[0m in \u001b[0;36m<module>\u001b[0;34m\u001b[0m\n\u001b[1;32m      1\u001b[0m \u001b[0mbetweenness_dict\u001b[0m \u001b[0;34m=\u001b[0m \u001b[0mnx\u001b[0m\u001b[0;34m.\u001b[0m\u001b[0mbetweenness_centrality\u001b[0m\u001b[0;34m(\u001b[0m\u001b[0mG\u001b[0m\u001b[0;34m)\u001b[0m \u001b[0;31m# Run betweenness centrality\u001b[0m\u001b[0;34m\u001b[0m\u001b[0;34m\u001b[0m\u001b[0m\n\u001b[1;32m      2\u001b[0m \u001b[0mnx\u001b[0m\u001b[0;34m.\u001b[0m\u001b[0mset_node_attributes\u001b[0m\u001b[0;34m(\u001b[0m\u001b[0mG\u001b[0m\u001b[0;34m,\u001b[0m \u001b[0mbetweenness_dict\u001b[0m\u001b[0;34m,\u001b[0m \u001b[0;34m'betweenness'\u001b[0m\u001b[0;34m)\u001b[0m\u001b[0;34m\u001b[0m\u001b[0;34m\u001b[0m\u001b[0m\n\u001b[0;32m----> 3\u001b[0;31m \u001b[0max\u001b[0m \u001b[0;34m=\u001b[0m \u001b[0mplot_top\u001b[0m\u001b[0;34m(\u001b[0m\u001b[0mtop_n\u001b[0m\u001b[0;34m(\u001b[0m\u001b[0mbetweenness_dict\u001b[0m\u001b[0;34m,\u001b[0m \u001b[0;36m14\u001b[0m\u001b[0;34m)\u001b[0m\u001b[0;34m,\u001b[0m \u001b[0mtitle\u001b[0m\u001b[0;34m=\u001b[0m\u001b[0;34m'Betweenness centrality'\u001b[0m\u001b[0;34m,\u001b[0m \u001b[0mfigsize\u001b[0m\u001b[0;34m=\u001b[0m\u001b[0;34m(\u001b[0m\u001b[0;36m12\u001b[0m\u001b[0;34m,\u001b[0m \u001b[0;36m5\u001b[0m\u001b[0;34m)\u001b[0m\u001b[0;34m)\u001b[0m\u001b[0;34m\u001b[0m\u001b[0;34m\u001b[0m\u001b[0m\n\u001b[0m",
      "\u001b[0;31mNameError\u001b[0m: name 'plot_top' is not defined"
     ]
    }
   ],
   "source": [
    "betweenness_dict = nx.betweenness_centrality(G) # Run betweenness centrality\n",
    "nx.set_node_attributes(G, betweenness_dict, 'betweenness')\n",
    "ax = plot_top(top_n(betweenness_dict, 14), title='Betweenness centrality', figsize=(12, 5))"
   ]
  },
  {
   "cell_type": "code",
   "execution_count": 27,
   "id": "fdb9ec04",
   "metadata": {},
   "outputs": [
    {
     "data": {
      "text/plain": [
       "[('US', 0.40958780793642824)]"
      ]
     },
     "execution_count": 27,
     "metadata": {},
     "output_type": "execute_result"
    }
   ],
   "source": [
    "top_n(betweenness_dict, 1)"
   ]
  },
  {
   "cell_type": "markdown",
   "id": "d7b163b9",
   "metadata": {},
   "source": [
    "#### Compare to future graph!\n",
    "will US's power increase/decrease in the future?"
   ]
  },
  {
   "cell_type": "code",
   "execution_count": 28,
   "id": "57c01744",
   "metadata": {},
   "outputs": [
    {
     "data": {
      "text/plain": [
       "[('US', 0.42827698973195827)]"
      ]
     },
     "execution_count": 28,
     "metadata": {},
     "output_type": "execute_result"
    }
   ],
   "source": [
    "future_betweenness_dict = nx.betweenness_centrality(future_G) # Run betweenness centrality\n",
    "nx.set_node_attributes(future_G, future_betweenness_dict, 'betweenness')\n",
    "top_n(future_betweenness_dict, 1)"
   ]
  },
  {
   "cell_type": "code",
   "execution_count": 29,
   "id": "dc6098bb",
   "metadata": {},
   "outputs": [],
   "source": [
    "def change_in_future (cc2):\n",
    "    return (future_betweenness_dict[cc2] - betweenness_dict[cc2])/ betweenness_dict[cc2]"
   ]
  },
  {
   "cell_type": "code",
   "execution_count": 30,
   "id": "bfde4fbb",
   "metadata": {},
   "outputs": [
    {
     "data": {
      "text/plain": [
       "0.045629243433024165"
      ]
     },
     "execution_count": 30,
     "metadata": {},
     "output_type": "execute_result"
    }
   ],
   "source": [
    "change_in_future('US')"
   ]
  },
  {
   "cell_type": "code",
   "execution_count": 31,
   "id": "c63e73fd",
   "metadata": {},
   "outputs": [
    {
     "data": {
      "text/plain": [
       "-0.15233532578617476"
      ]
     },
     "execution_count": 31,
     "metadata": {},
     "output_type": "execute_result"
    }
   ],
   "source": [
    "change_in_future('CN')"
   ]
  },
  {
   "cell_type": "markdown",
   "id": "fca3b7a1",
   "metadata": {},
   "source": [
    "## Eigenvector centrality"
   ]
  },
  {
   "cell_type": "code",
   "execution_count": 32,
   "id": "83779f73",
   "metadata": {},
   "outputs": [
    {
     "data": {
      "text/plain": [
       "<AxesSubplot:>"
      ]
     },
     "execution_count": 32,
     "metadata": {},
     "output_type": "execute_result"
    },
    {
     "data": {
      "image/png": "[encoded data removed]",
      "text/plain": [
       "<Figure size 748.8x655.2 with 1 Axes>"
      ]
     },
     "metadata": {},
     "output_type": "display_data"
    }
   ],
   "source": [
    "eigenvector_dict = nx.eigenvector_centrality(G) # Run eigenvector centrality\n",
    "nx.set_node_attributes(G, eigenvector_dict, 'eigenvector')\n",
    "plot_top(top_n(eigenvector_dict, 20))"
   ]
  },
  {
   "cell_type": "markdown",
   "id": "711fca2e",
   "metadata": {},
   "source": [
    "## Community detection"
   ]
  },
  {
   "cell_type": "code",
   "execution_count": 33,
   "id": "4d3dc0a3",
   "metadata": {},
   "outputs": [],
   "source": [
    "import community"
   ]
  },
  {
   "cell_type": "code",
   "execution_count": 34,
   "id": "a0797f1c",
   "metadata": {},
   "outputs": [],
   "source": [
    "communities = community.best_partition(G)\n",
    "nx.set_node_attributes(G, communities, 'modularity')"
   ]
  },
  {
   "cell_type": "code",
   "execution_count": 35,
   "id": "136b51eb",
   "metadata": {},
   "outputs": [
    {
     "data": {
      "text/plain": [
       "{'degree': 70,\n",
       " 'betweenness': 0.40958780793642824,\n",
       " 'eigenvector': 0.08450398863284823,\n",
       " 'modularity': 5}"
      ]
     },
     "execution_count": 35,
     "metadata": {},
     "output_type": "execute_result"
    }
   ],
   "source": [
    "G.nodes['US']"
   ]
  },
  {
   "cell_type": "code",
   "execution_count": 36,
   "id": "f4afd9b0",
   "metadata": {},
   "outputs": [
    {
     "data": {
      "text/plain": [
       "[('TM', 1.260044883752411e-30)]"
      ]
     },
     "execution_count": 36,
     "metadata": {},
     "output_type": "execute_result"
    }
   ],
   "source": [
    "def eigenvector_in_class (class_n, top=3):\n",
    "    # First get a list of just the nodes in that class\n",
    "    class0 = [n for n in G.nodes() if G.nodes[n]['modularity'] == class_n]\n",
    "    # Then create a dictionary of the eigenvector centralities of those nodes\n",
    "    class0_eigenvector = {n:G.nodes[n]['eigenvector'] for n in class0}\n",
    "    # Then sort that dictionary and print the first 5 results\n",
    "    class0_sorted_by_eigenvector = sorted(class0_eigenvector.items(), key=itemgetter(1), reverse=True)\n",
    "    return class0_sorted_by_eigenvector[:top]\n",
    "\n",
    "eigenvector_in_class(4)"
   ]
  },
  {
   "cell_type": "code",
   "execution_count": 37,
   "id": "27821568",
   "metadata": {},
   "outputs": [
    {
     "data": {
      "text/plain": [
       "{0: ['AZ', 'AZ'],\n",
       " 1: ['PM',\n",
       "  'PM',\n",
       "  'NO',\n",
       "  'BG',\n",
       "  'IE',\n",
       "  'CA',\n",
       "  'EE',\n",
       "  'IS',\n",
       "  'RU',\n",
       "  'DK',\n",
       "  'GE',\n",
       "  'RO',\n",
       "  'IM',\n",
       "  'GL',\n",
       "  'DE',\n",
       "  'NL',\n",
       "  'SE',\n",
       "  'FI',\n",
       "  'UA',\n",
       "  'FO',\n",
       "  'LV',\n",
       "  'PL',\n",
       "  'LT'],\n",
       " 2: ['MF',\n",
       "  'MF',\n",
       "  'VC',\n",
       "  'BB',\n",
       "  'BQ',\n",
       "  'AI',\n",
       "  'GD',\n",
       "  'TT',\n",
       "  'MQ',\n",
       "  'MS',\n",
       "  'AG',\n",
       "  'DM',\n",
       "  'SX',\n",
       "  'VG',\n",
       "  'BL',\n",
       "  'KN',\n",
       "  'GP',\n",
       "  'LC',\n",
       "  'GY',\n",
       "  'SR'],\n",
       " 3: ['MG',\n",
       "  'MG',\n",
       "  'BN',\n",
       "  'GI',\n",
       "  'MM',\n",
       "  'IL',\n",
       "  'DZ',\n",
       "  'KR',\n",
       "  'FR',\n",
       "  'HR',\n",
       "  'SA',\n",
       "  'SG',\n",
       "  'JE',\n",
       "  'QA',\n",
       "  'VN',\n",
       "  'AE',\n",
       "  'SC',\n",
       "  'TN',\n",
       "  'KH',\n",
       "  'MA',\n",
       "  'SY',\n",
       "  'OM',\n",
       "  'AL',\n",
       "  'BE',\n",
       "  'PK',\n",
       "  'GG',\n",
       "  'DJ',\n",
       "  'JO',\n",
       "  'BD',\n",
       "  'CY',\n",
       "  'YT',\n",
       "  'TZ',\n",
       "  'GR',\n",
       "  'SO',\n",
       "  'CX',\n",
       "  'TW',\n",
       "  'PH',\n",
       "  'SD',\n",
       "  'ID',\n",
       "  'MU',\n",
       "  'NC',\n",
       "  'JP',\n",
       "  'YE',\n",
       "  'IT',\n",
       "  'BH',\n",
       "  'MZ',\n",
       "  'LK',\n",
       "  'IN',\n",
       "  'GB',\n",
       "  'EG',\n",
       "  'LY',\n",
       "  'KW',\n",
       "  'IQ',\n",
       "  'MY',\n",
       "  'MV',\n",
       "  'RE',\n",
       "  'IR',\n",
       "  'CN',\n",
       "  'LB',\n",
       "  'KM',\n",
       "  'MC',\n",
       "  'KE',\n",
       "  'TR',\n",
       "  'TH',\n",
       "  'AU',\n",
       "  'MT'],\n",
       " 4: ['TM', 'TM'],\n",
       " 5: ['GF',\n",
       "  'GF',\n",
       "  'CW',\n",
       "  'BR',\n",
       "  'DO',\n",
       "  'MH',\n",
       "  'VE',\n",
       "  'BZ',\n",
       "  'CO',\n",
       "  'BS',\n",
       "  'PG',\n",
       "  'HN',\n",
       "  'HT',\n",
       "  'CR',\n",
       "  'TC',\n",
       "  'UY',\n",
       "  'PA',\n",
       "  'MX',\n",
       "  'NI',\n",
       "  'US',\n",
       "  'MP',\n",
       "  'AW',\n",
       "  'CU',\n",
       "  'JM',\n",
       "  'EC',\n",
       "  'AN',\n",
       "  'BM',\n",
       "  'PW',\n",
       "  'VI',\n",
       "  'KY',\n",
       "  'SB',\n",
       "  'FM',\n",
       "  'AR',\n",
       "  'PE',\n",
       "  'GT',\n",
       "  'CL'],\n",
       " 7: ['KZ', 'KZ'],\n",
       " 8: ['NA',\n",
       "  'NA',\n",
       "  'GN',\n",
       "  'AO',\n",
       "  'GM',\n",
       "  'SL',\n",
       "  'CV',\n",
       "  'CD',\n",
       "  'ES',\n",
       "  'TG',\n",
       "  'PT',\n",
       "  'CI',\n",
       "  'GQ',\n",
       "  'SN',\n",
       "  'NG',\n",
       "  'LR',\n",
       "  'GA',\n",
       "  'CM',\n",
       "  'GW',\n",
       "  'GH',\n",
       "  'BJ',\n",
       "  'MR',\n",
       "  'SH',\n",
       "  'ZA',\n",
       "  'ST',\n",
       "  'CG'],\n",
       " 9: ['TO', 'TO', 'NZ', 'PF', 'FJ', 'NU', 'CK', 'VU', 'AS', 'WS', 'WF'],\n",
       " 10: ['NR', 'NR'],\n",
       " 11: ['KI', 'KI'],\n",
       " 12: ['CC', 'CC'],\n",
       " 6: ['TK', 'TK']}"
      ]
     },
     "execution_count": 37,
     "metadata": {},
     "output_type": "execute_result"
    }
   ],
   "source": [
    "communities_dict = {}\n",
    "for node, group in communities.items():\n",
    "    if group not in communities_dict:\n",
    "        communities_dict[group] = [ node ]\n",
    "    if group in communities_dict:\n",
    "        member_lst = communities_dict[group]\n",
    "        member_lst.append(node)\n",
    "        communities_dict[group] = member_lst\n",
    "communities_dict"
   ]
  },
  {
   "cell_type": "markdown",
   "id": "ee9d37fc",
   "metadata": {},
   "source": [
    "# Who is most vulnerable to cable cutting?"
   ]
  },
  {
   "cell_type": "markdown",
   "id": "2afe6b73",
   "metadata": {},
   "source": [
    "## Who is only connected to one other node?"
   ]
  },
  {
   "cell_type": "code",
   "execution_count": 38,
   "id": "a365284c",
   "metadata": {},
   "outputs": [
    {
     "name": "stdout",
     "output_type": "stream",
     "text": [
      "Saint Pierre and Miquelon only connects to Canada\n",
      "Seychelles only connects to Tanzania, United Republic of\n",
      "Tonga only connects to Fiji\n",
      "New Caledonia only connects to Australia\n",
      "Northern Mariana Islands only connects to United States\n",
      "Vanuatu only connects to Fiji\n",
      "Netherlands Antilles only connects to Curacao\n",
      "Ukraine only connects to Russian Federation\n",
      "Malta only connects to Italy\n"
     ]
    }
   ],
   "source": [
    "lowest_degree = top_n(degree_dict, 30, reverse=False)\n",
    "for cc2, degree in lowest_degree:\n",
    "    if degree==1:\n",
    "        from_country = cc_to_country(cc2)\n",
    "        edges = G.edges(cc2)\n",
    "        for edge in edges:\n",
    "            print(from_country, 'only connects to', cc_to_country(edge[1]))"
   ]
  },
  {
   "cell_type": "code",
   "execution_count": 39,
   "id": "cdebe8ae",
   "metadata": {},
   "outputs": [
    {
     "data": {
      "text/plain": [
       "dict_values([0.0, 0.0, 0.003417484909197599, 0.00040272802703741927, 0.0, 0.006925934633043288, 0.0, 0.0, 0.0006747957010827281, 0.0006740736005211553, 0.0, 0.012929535669553661, 0.035783025313564316, 0.0, 7.358790886402088e-05, 0.005888737158914424, 0.00762657769101105, 0.07314132678960975, 0.0, 0.0032870235848090667, 0.0, 0.0041191043451388794, 0.0, 0.021542586676082602, 0.0, 0.013869881071773933, 0.0, 0.00013818169857701286, 0.001730812096925948, 0.009605060853859215, 0.014381230044234469, 0.0, 0.0, 0.006357786380922379, 0.0022379159908757383, 0.0, 0.0017892034263217154, 0.002242630705814467, 0.0, 0.018695943448054805, 0.0, 0.006357786380922379, 0.0, 0.0, 0.0048223001561957385, 0.00284936693939131, 0.0, 0.0, 0.012322795734416591, 0.0, 0.00219617468605472, 0.0017324094232734494, 0.0, 0.028620305249498008, 0.0019027606792823377, 0.0, 0.0, 0.00010832830537338378, 0.012892850345750812, 0.006974762155050149, 0.0, 0.010735970891414493, 0.0, 0.012586531345506151, 0.0035515275760539416, 9.839323177918285e-05, 4.5534575921316254e-05, 0.0034965092864330514, 0.002259608933291231, 0.00013818169857701286, 0.0, 8.81780676571521e-05, 0.021582156371412337, 0.0, 0.02137307200452139, 1.2142553579017668e-05, 0.006925934633043288, 0.01162782935799737, 0.0024732910907856085, 0.019435235358512895, 0.0001762420084152022, 8.81780676571521e-05, 0.0, 0.03725418768798753, 0.0598246608739147, 0.0026085588016750063, 0.0, 0.04686046356999552, 0.00015236013657481692, 0.035728375053534364, 0.0004300487725902091, 0.0, 0.0, 0.06286474976951133, 0.0008108238261559332, 0.0, 0.0, 0.0, 0.004019378286724155, 0.0015566576094059009, 0.027715731453597917, 0.0, 0.005137581417390934, 0.00037100102402956017, 0.0, 0.0, 0.40958780793642824, 0.0006740736005211553, 0.0, 0.0, 0.0006740736005211553, 0.014490595061819624, 0.00017194927766912363, 0.007940121230868952, 0.0, 0.000640773567221122, 0.0002854477227525424, 0.0, 0.0019869184429559504, 9.427562703016531e-05, 0.027091811492316337, 0.0, 0.02584422645273233, 0.0029788574736625403, 0.0037471454329601407, 0.007371728862670485, 0.0, 0.00034934651277017116, 0.004598742119747175, 0.11124589244010664, 0.0, 3.9725765230945596e-05, 0.003377009730600873, 0.027574382078370024, 4.1210629836891626e-05, 0.0, 0.0, 0.004522012355458963, 0.0, 0.0, 0.026977372624900485, 0.0, 0.0, 0.0, 0.0001762420084152022, 4.654645538623439e-05, 0.004040042257087324, 0.00433229383332703, 0.0, 0.0, 0.0, 0.0002854477227525424, 0.0006740736005211553, 0.01039340523794816, 0.0004267322397130847, 0.0, 0.0, 0.0024362866442177887, 0.0003926498014485125, 0.0, 2.0268021763473097e-05, 0.0017794177797509918, 0.008352270538127402, 0.0, 0.013085696527536276, 0.00016187965861744758, 0.026109503061267154, 0.0, 0.0, 0.0006740736005211553, 0.025851225929088503, 0.0006228250155485846, 0.0, 0.01334285247029199, 0.00016187965861744758, 0.0, 0.0, 0.0, 0.06166762184392432, 0.0, 0.0, 0.0, 0.00013818169857701286])"
      ]
     },
     "execution_count": 39,
     "metadata": {},
     "output_type": "execute_result"
    }
   ],
   "source": [
    "betweenness_dict.values()"
   ]
  },
  {
   "cell_type": "code",
   "execution_count": 40,
   "id": "749ae148",
   "metadata": {},
   "outputs": [
    {
     "data": {
      "image/png": "[encoded data removed]",
      "text/plain": [
       "<Figure size 864x360 with 1 Axes>"
      ]
     },
     "metadata": {},
     "output_type": "display_data"
    }
   ],
   "source": [
    "plot_net(G.subgraph(['AU', 'FJ', 'US']))"
   ]
  },
  {
   "cell_type": "code",
   "execution_count": null,
   "id": "a43fda0c",
   "metadata": {},
   "outputs": [],
   "source": []
  },
  {
   "cell_type": "code",
   "execution_count": 41,
   "id": "155f842a",
   "metadata": {},
   "outputs": [
    {
     "data": {
      "text/plain": [
       "{'degree': 3,\n",
       " 'betweenness': 0.0,\n",
       " 'eigenvector': 0.0029202858385364073,\n",
       " 'modularity': 5}"
      ]
     },
     "execution_count": 41,
     "metadata": {},
     "output_type": "execute_result"
    }
   ],
   "source": [
    "G.nodes['CU']"
   ]
  },
  {
   "cell_type": "code",
   "execution_count": 44,
   "id": "c022e3c2",
   "metadata": {},
   "outputs": [],
   "source": [
    "nx.node_connected_component(G, 'CU')\n"
   ]
  }
 ],
 "metadata": {
  "kernelspec": {
   "display_name": "Python 3 (ipykernel)",
   "language": "python",
   "name": "python3"
  },
  "language_info": {
   "codemirror_mode": {
    "name": "ipython",
    "version": 3
   },
   "file_extension": ".py",
   "mimetype": "text/x-python",
   "name": "python",
   "nbconvert_exporter": "python",
   "pygments_lexer": "ipython3",
   "version": "3.8.10"
  }
 },
 "nbformat": 4,
 "nbformat_minor": 5
}
